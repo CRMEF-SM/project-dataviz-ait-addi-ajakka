{
 "cells": [
  {
   "cell_type": "code",
   "execution_count": 4,
   "id": "67481f8b",
   "metadata": {},
   "outputs": [
    {
     "name": "stdout",
     "output_type": "stream",
     "text": [
      "Usage: ./spark-submit.sh <pyspark-job.py> [ executor-memory ]\n",
      "(specify memory in string format such as \"512M\" or \"2G\")\n"
     ]
    }
   ],
   "source": [
    "!./spark-submit.sh"
   ]
  }
 ],
 "metadata": {
  "kernelspec": {
   "display_name": "Python 3 (ipykernel)",
   "language": "python",
   "name": "python3"
  },
  "language_info": {
   "codemirror_mode": {
    "name": "ipython",
    "version": 3
   },
   "file_extension": ".py",
   "mimetype": "text/x-python",
   "name": "python",
   "nbconvert_exporter": "python",
   "pygments_lexer": "ipython3",
   "version": "3.7.3"
  }
 },
 "nbformat": 4,
 "nbformat_minor": 5
}
