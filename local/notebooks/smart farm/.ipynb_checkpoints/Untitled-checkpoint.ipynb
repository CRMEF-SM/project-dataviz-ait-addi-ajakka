{
 "cells": [
  {
   "cell_type": "code",
   "execution_count": null,
   "id": "7ab5c6f9",
   "metadata": {},
   "outputs": [],
   "source": [
    "from pyspark import SparkContext, SparkConf\n",
    "from pyspark.sql import SparkSession\n",
    "from pyspark.streaming import StreamingContext\n",
    "\n",
    "import os\n",
    "SUBMIT_ARGS = \"--packages org.apache.bahir:spark-streaming-mqtt_2.12:2.4.0 pyspark-shell\"\n",
    "os.environ[\"PYSPARK_SUBMIT_ARGS\"] = SUBMIT_ARGS\n",
    "\n",
    "conf=SparkConf()\n",
    "conf.setMaster('spark://spark-master:7077')\n",
    "\n",
    "sc = SparkContext.getOrCreate(conf)\n",
    "ssc=StreamingContext(sc,1)\n",
    "ssc"
   ]
  },
  {
   "cell_type": "code",
   "execution_count": 18,
   "id": "1e05ae9d",
   "metadata": {},
   "outputs": [],
   "source": [
    "!chmod +x spark-submit.sh"
   ]
  },
  {
   "cell_type": "code",
   "execution_count": null,
   "id": "a7476f4c",
   "metadata": {},
   "outputs": [],
   "source": [
    "!./spark-submit.sh"
   ]
  }
 ],
 "metadata": {
  "kernelspec": {
   "display_name": "Python 3 (ipykernel)",
   "language": "python",
   "name": "python3"
  },
  "language_info": {
   "codemirror_mode": {
    "name": "ipython",
    "version": 3
   },
   "file_extension": ".py",
   "mimetype": "text/x-python",
   "name": "python",
   "nbconvert_exporter": "python",
   "pygments_lexer": "ipython3",
   "version": "3.7.3"
  }
 },
 "nbformat": 4,
 "nbformat_minor": 5
}
