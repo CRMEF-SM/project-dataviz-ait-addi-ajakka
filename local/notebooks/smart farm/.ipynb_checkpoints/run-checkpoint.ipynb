{
 "cells": [
  {
   "cell_type": "code",
   "execution_count": null,
   "id": "fc35091c",
   "metadata": {},
   "outputs": [],
   "source": [
    "!chmod +x spark-submit.sh"
   ]
  },
  {
   "cell_type": "code",
   "execution_count": null,
   "id": "2bd28b18",
   "metadata": {},
   "outputs": [],
   "source": [
    "!./spark-submit.sh"
   ]
  }
 ],
 "metadata": {
  "kernelspec": {
   "display_name": "Python 3 (ipykernel)",
   "language": "python",
   "name": "python3"
  },
  "language_info": {
   "codemirror_mode": {
    "name": "ipython",
    "version": 3
   },
   "file_extension": ".py",
   "mimetype": "text/x-python",
   "name": "python",
   "nbconvert_exporter": "python",
   "pygments_lexer": "ipython3",
   "version": "3.7.3"
  }
 },
 "nbformat": 4,
 "nbformat_minor": 5
}
